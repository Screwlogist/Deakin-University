{
 "cells": [
  {
   "cell_type": "markdown",
   "metadata": {},
   "source": [
    "Define a string variable with your name. Print characters of odd and even position of your name."
   ]
  },
  {
   "cell_type": "code",
   "execution_count": 8,
   "metadata": {},
   "outputs": [
    {
     "name": "stdout",
     "output_type": "stream",
     "text": [
      "The Even list of characters are: ['L', 'K', 'T']\n",
      "The Odd list of characters are: ['I', 'I', 'H']\n"
     ]
    }
   ],
   "source": [
    "#Assigning name to variable My_name\n",
    "My_name = \"LIKITH\"\n",
    "\n",
    "#Creating two list for odd and even for storing\n",
    "Odd_list = []\n",
    "Even_list = []\n",
    "\n",
    "#loop for finding out whether the position of the character is odd or even\n",
    "for i in range(len(My_name)):\n",
    "    if i % 2 == 0:\n",
    "        Even_list.append(My_name[i])\n",
    "    else:\n",
    "        Odd_list.append(My_name[i])\n",
    "\n",
    "#printing the odd and even list\n",
    "print(f\"The Even list of characters are: {Even_list}\")\n",
    "print(f\"The Odd list of characters are: {Odd_list}\")"
   ]
  },
  {
   "cell_type": "markdown",
   "metadata": {},
   "source": [
    "Create three variables named 'Student name', 'Course name', and 'EmailAddress'. Add 5 random values in these variables, where added values are not replaceable and print them."
   ]
  },
  {
   "cell_type": "code",
   "execution_count": 6,
   "metadata": {},
   "outputs": [
    {
     "name": "stdout",
     "output_type": "stream",
     "text": [
      "['Student_D', 'Student_E', 'Student_C', 'Student_J', 'Student_I']\n",
      "['Course_H', 'Course_D', 'Course_C', 'Course_G', 'Course_B']\n",
      "['Hotmail', 'msgme', 'MSN', 'Outlook', 'Icloud']\n"
     ]
    }
   ],
   "source": [
    "#importing packages\n",
    "import random\n",
    "\n",
    "#actions to find 5 values of the variables\n",
    "#chars = ascii_letters\n",
    "Student_name = (\"Student_A\", \"Student_B\", \"Student_C\", \"Student_D\", \"Student_E\", \"Student_F\", \"Student_G\", \"Student_H\", \"Student_I\", \"Student_J\")\n",
    "Course_name = (\"Course_A\", \"Course_B\", \"Course_C\", \"Course_D\", \"Course_E\", \"Course_F\", \"Course_G\", \"Course_H\", \"Course_I\", \"Course_J\")\n",
    "Email_address = (\"Gmail\", \"Hotmail\", \"Icloud\", \"Yahoo\", \"MSN\", \"Outlook\", \"msgme\")\n",
    "\n",
    "#printing the variables\n",
    "Student_rand_names = random.sample(Student_name, 5)\n",
    "print(Student_rand_names)\n",
    "Course_rand_names = random.sample(Course_name, 5)\n",
    "print(Course_rand_names)\n",
    "Email_rand_names = random.sample(Email_address, 5)\n",
    "print(Email_rand_names)"
   ]
  },
  {
   "cell_type": "markdown",
   "metadata": {},
   "source": [
    "Create a dictionary variable with three keys, which are named same as the three variables created in the previous problem. Insert the previously created three variables values in the dictionary variable and print it."
   ]
  },
  {
   "cell_type": "code",
   "execution_count": 9,
   "metadata": {},
   "outputs": [
    {
     "name": "stdout",
     "output_type": "stream",
     "text": [
      "{'Student_name': ['ttrih', 'DGXaj', 'MwfMy', 'liOeR', 'cdnBm'], 'Course_name': ['ZgXEc', 'GFAyR', 'qgJNo', 'sedZj', 'kVwEG'], 'Email_address': ['Xgogp@gmail.com', 'ZaiGW@gmail.com', 'nBCPb@gmail.com', 'odMFb@gmail.com', 'XFFEw@gmail.com']}\n"
     ]
    }
   ],
   "source": [
    "#importing packages\n",
    "from random import choice\n",
    "from string import ascii_letters\n",
    "\n",
    "#actions to find 5 values of the variables\n",
    "chars = ascii_letters\n",
    "Student_name = [''.join(choice(chars) for _ in range(5)) for _ in range(5)]\n",
    "Course_name = [''.join(choice(chars) for _ in range(5)) for _ in range(5)]\n",
    "Email_address = [''.join(choice(chars) for _ in range(5)) + \"@gmail.com\" for _ in range(5)]\n",
    "\n",
    "#Storing the variables in a dictionary and printing\n",
    "Uni_Dict = dict(Student_name = Student_name, Course_name = Course_name, Email_address = Email_address)\n",
    "print(Uni_Dict)"
   ]
  },
  {
   "cell_type": "markdown",
   "metadata": {},
   "source": [
    "Define a string variable 'energy' and assign value either 'Fossil' or 'Renewable'. Print \"Natural gas\" if the value of energy variable is 'Fossil' otherwise print \"solar power\". What will your program print if energy='Biomass '?"
   ]
  },
  {
   "cell_type": "code",
   "execution_count": 4,
   "metadata": {},
   "outputs": [
    {
     "name": "stdout",
     "output_type": "stream",
     "text": [
      "Pick any value from the list below for Energy:\n",
      "1. Fossil\n",
      "2. Renewable\n",
      "3. Biomass\n",
      "Solar power\n"
     ]
    }
   ],
   "source": [
    "print(\"Pick any value from the list below for Energy:\\n1. Fossil\\n2. Renewable\\n3. Biomass\")\n",
    "energy = input()\n",
    "\n",
    "if energy == 'Fossil':\n",
    "    print(\"Natural Gas\")\n",
    "else:\n",
    "    print(\"Solar power\")"
   ]
  },
  {
   "cell_type": "markdown",
   "metadata": {},
   "source": [
    "Print all prime numbers between 0 and 100 separated by line."
   ]
  },
  {
   "cell_type": "code",
   "execution_count": 6,
   "metadata": {},
   "outputs": [
    {
     "name": "stdout",
     "output_type": "stream",
     "text": [
      "Prime numbers between 1 and 100 are:\n",
      "2\n",
      "3\n",
      "5\n",
      "7\n",
      "11\n",
      "13\n",
      "17\n",
      "19\n",
      "23\n",
      "29\n",
      "31\n",
      "37\n",
      "41\n",
      "43\n",
      "47\n",
      "53\n",
      "59\n",
      "61\n",
      "67\n",
      "71\n",
      "73\n",
      "79\n",
      "83\n",
      "89\n",
      "97\n"
     ]
    }
   ],
   "source": [
    "print('Prime numbers between 1 and 100 are:')\n",
    " \n",
    "for num in range(2,101):\n",
    "   if num > 1:\n",
    "       for i in range(2,num):\n",
    "           if (num % i) == 0:\n",
    "               break\n",
    "       else:\n",
    "           print(num)"
   ]
  },
  {
   "cell_type": "markdown",
   "metadata": {},
   "source": [
    "Is it possible to break a loop before executing for the defined number of iterations? If yes, provide an example using While loop structure. Otherwise, explain your answer (why and how)."
   ]
  },
  {
   "cell_type": "markdown",
   "metadata": {},
   "source": [
    "Answer: It is possible to end a loop before the predetermined amount of iterations. We can use the break statement in Python to accomplish this. The break statement will end the loop instantly and execute the statement that comes after it.\n",
    "\n",
    "The Example below print the value of num until it reaches 5 and then breaks from the loop after reaching 5."
   ]
  },
  {
   "cell_type": "code",
   "execution_count": 7,
   "metadata": {},
   "outputs": [
    {
     "name": "stdout",
     "output_type": "stream",
     "text": [
      "1\n",
      "2\n",
      "3\n",
      "4\n",
      "5\n"
     ]
    }
   ],
   "source": [
    "num = 1\n",
    "while num <= 10:\n",
    "    print(num)\n",
    "    if num == 5:\n",
    "        break\n",
    "    num += 1"
   ]
  },
  {
   "cell_type": "markdown",
   "metadata": {},
   "source": [
    "Create  functions named  'Addition', 'Multiplication', 'Division' and 'Subtraction'. These functions takes two input parameters say (x, y) and return (x+y),(x*y), (x/y) and (x-y). Call the function with (4,7) arguments and print the outputs"
   ]
  },
  {
   "cell_type": "code",
   "execution_count": 8,
   "metadata": {},
   "outputs": [
    {
     "name": "stdout",
     "output_type": "stream",
     "text": [
      "11\n",
      "-3\n",
      "28\n",
      "0.5714285714285714\n"
     ]
    }
   ],
   "source": [
    "def Addition(x, y):\n",
    "    return x + y\n",
    "\n",
    "def Subtraction(x, y):\n",
    "    return x - y\n",
    "\n",
    "def Multiplication(x, y):\n",
    "    return x * y\n",
    "\n",
    "def Division(x, y):\n",
    "    if (y != 0):\n",
    "        return x / y\n",
    "    else:\n",
    "        print(\"Division by Zero is not valid\")\n",
    "\n",
    "print(Addition(4,7))\n",
    "print(Subtraction(4,7))\n",
    "print(Multiplication(4,7))\n",
    "print(Division(4,7))"
   ]
  },
  {
   "cell_type": "markdown",
   "metadata": {},
   "source": [
    "Create and display a 8x8 Identity matrix and multiply it with a 8x4 Random matrix."
   ]
  },
  {
   "cell_type": "code",
   "execution_count": 8,
   "metadata": {},
   "outputs": [
    {
     "name": "stdout",
     "output_type": "stream",
     "text": [
      "The identity matrix is: \n",
      " [[1 0 0 0 0 0 0 0]\n",
      " [0 1 0 0 0 0 0 0]\n",
      " [0 0 1 0 0 0 0 0]\n",
      " [0 0 0 1 0 0 0 0]\n",
      " [0 0 0 0 1 0 0 0]\n",
      " [0 0 0 0 0 1 0 0]\n",
      " [0 0 0 0 0 0 1 0]\n",
      " [0 0 0 0 0 0 0 1]]\n",
      "\n",
      "The random matrix is: \n",
      " [[1 8 0 7]\n",
      " [5 1 3 0]\n",
      " [6 1 2 0]\n",
      " [5 2 2 4]\n",
      " [4 0 9 1]\n",
      " [8 8 2 6]\n",
      " [0 6 0 7]\n",
      " [3 8 9 4]]\n",
      "\n",
      "The multiplied matrix is: \n",
      " [[1 8 0 7]\n",
      " [5 1 3 0]\n",
      " [6 1 2 0]\n",
      " [5 2 2 4]\n",
      " [4 0 9 1]\n",
      " [8 8 2 6]\n",
      " [0 6 0 7]\n",
      " [3 8 9 4]]\n"
     ]
    }
   ],
   "source": [
    "import numpy as np\n",
    "\n",
    "mat1 = np.identity(8, dtype=int)\n",
    "print(\"The identity matrix is: \\n\", mat1)\n",
    "\n",
    "mat2 = np.random.randint(10, size=(8,4))\n",
    "print(\"\\nThe random matrix is: \\n\", mat2)\n",
    "\n",
    "mul_mat = np.matmul(mat1,mat2)\n",
    "print(\"\\nThe multiplied matrix is: \\n\", mul_mat)"
   ]
  },
  {
   "cell_type": "markdown",
   "metadata": {},
   "source": [
    "Create a 8x9 matrix, initialise with random values and print it. Now, transpose the matrix and print it. How the transposed matrix is different from original matrix?"
   ]
  },
  {
   "cell_type": "markdown",
   "metadata": {},
   "source": [
    "Transpose matrix is basically where the row becomes column and column becomes row"
   ]
  },
  {
   "cell_type": "code",
   "execution_count": 25,
   "metadata": {},
   "outputs": [
    {
     "name": "stdout",
     "output_type": "stream",
     "text": [
      "The original matrix is:\n",
      "[[9 2 2 1 3 8 5 6 7]\n",
      " [3 5 7 6 6 8 9 3 7]\n",
      " [9 4 5 9 4 3 0 6 0]\n",
      " [6 5 5 7 1 2 9 6 0]\n",
      " [7 4 2 2 3 5 2 2 0]\n",
      " [8 7 2 4 3 2 6 8 2]\n",
      " [4 0 0 0 4 7 6 5 1]\n",
      " [8 7 2 0 6 0 2 1 3]] \n",
      "\n",
      "\n",
      "The transpose matrix is:\n",
      "[[9 3 9 6 7 8 4 8]\n",
      " [2 5 4 5 4 7 0 7]\n",
      " [2 7 5 5 2 2 0 2]\n",
      " [1 6 9 7 2 4 0 0]\n",
      " [3 6 4 1 3 3 4 6]\n",
      " [8 8 3 2 5 2 7 0]\n",
      " [5 9 0 9 2 6 6 2]\n",
      " [6 3 6 6 2 8 5 1]\n",
      " [7 7 0 0 0 2 1 3]]\n"
     ]
    }
   ],
   "source": [
    "import numpy\n",
    "\n",
    "org_mat = numpy.random.randint(10, size=(8,9))\n",
    "print(\"The original matrix is:\")\n",
    "print(org_mat,\"\\n\\n\")\n",
    "transpose_mat = org_mat.transpose()\n",
    "print(\"The transpose matrix is:\")\n",
    "print(transpose_mat)"
   ]
  },
  {
   "cell_type": "markdown",
   "metadata": {},
   "source": [
    "Expport the \"PedestrianCounting.csv\" file as a matrix. The row of the matrix represents data point or instance and the column represents the variable or feature. Print the number of data instances and variables present in this dataset. Calculate mean of the third variable and deduct this mean from original values of the variable. Print both original and modified values of the variable."
   ]
  },
  {
   "cell_type": "code",
   "execution_count": 2,
   "metadata": {},
   "outputs": [
    {
     "name": "stdout",
     "output_type": "stream",
     "text": [
      "The number of data instance: 164316\n",
      "The number of variables: 5\n",
      "The mean value obtained is:  206.7159132403418\n",
      "\n",
      "The original values of the 3rd variable is:\n",
      "[25.  7. 13. ... 22. 56. 49.]\n",
      "\n",
      "The modified values of the 3rd variable is:\n",
      "[-181.71591324 -199.71591324 -193.71591324 ... -184.71591324 -150.71591324\n",
      " -157.71591324]\n"
     ]
    }
   ],
   "source": [
    "import csv\n",
    "import numpy\n",
    "\n",
    "with open('/Users/likith/Library/Mobile Documents/com~apple~CloudDocs/Programming/SIT720 Machine Learning/pedestrian-counting-system-monthly-counts-per-hour.csv', 'r') as csvfile:\n",
    "    reader = csv.reader(csvfile, delimiter=',')\n",
    "    data = list(reader)\n",
    "\n",
    "csv_mat = numpy.array(data)\n",
    "\n",
    "new_mat = numpy.delete(csv_mat, (0), axis = 0)\n",
    "\n",
    "print(\"The number of data instance:\", new_mat.shape[0])\n",
    "print(\"The number of variables:\", new_mat.shape[1])\n",
    "\n",
    "new_mat[:, 2] = [float(str(i).replace(\",\", \"\")) for i in new_mat[:, 2]]\n",
    "\n",
    "new_mat1 = new_mat[:, 2].astype(float)\n",
    "\n",
    "mean = numpy.mean(new_mat1)\n",
    "\n",
    "print(\"The mean value obtained is: \", mean)\n",
    "\n",
    "mod_mat = new_mat1.copy()\n",
    "mod_mat -= mean\n",
    "\n",
    "print(\"\\nThe original values of the 3rd variable is:\")\n",
    "print(new_mat1)\n",
    "\n",
    "print(\"\\nThe modified values of the 3rd variable is:\")\n",
    "print(mod_mat)"
   ]
  },
  {
   "cell_type": "code",
   "execution_count": null,
   "metadata": {},
   "outputs": [],
   "source": []
  }
 ],
 "metadata": {
  "kernelspec": {
   "display_name": "base",
   "language": "python",
   "name": "python3"
  },
  "language_info": {
   "codemirror_mode": {
    "name": "ipython",
    "version": 3
   },
   "file_extension": ".py",
   "mimetype": "text/x-python",
   "name": "python",
   "nbconvert_exporter": "python",
   "pygments_lexer": "ipython3",
   "version": "3.10.9"
  },
  "orig_nbformat": 4
 },
 "nbformat": 4,
 "nbformat_minor": 2
}
